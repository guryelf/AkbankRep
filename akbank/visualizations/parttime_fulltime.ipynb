{
 "cells": [
  {
   "cell_type": "code",
   "execution_count": null,
   "metadata": {},
   "outputs": [],
   "source": [
    "import pandas as pd"
   ]
  },
  {
   "cell_type": "code",
   "execution_count": null,
   "metadata": {},
   "outputs": [],
   "source": [
    "csv_file = pd.read_csv(\"/Users/a90530/Downloads/akbank/dataset/rawData.csv\")\n",
    "df = pd.DataFrame(csv_file)"
   ]
  },
  {
   "cell_type": "code",
   "execution_count": null,
   "metadata": {},
   "outputs": [],
   "source": [
    "def veri_inceleme(df):\n",
    "    print(\"\\nDataframe'in ilk 5 tanesi\")\n",
    "    print(df.head())\n",
    "    print(\"\\n\\nDataframe'in columnları\")\n",
    "    print(df.columns)\n",
    "    print(\"\\n\\nDataframe hakkında istatistiksel bilgi\")\n",
    "    print(df.describe())\n",
    "    print(\"\\nColumn Sayısı:\")\n",
    "    print(df.shape)\n",
    "    print(\"\\n\\nDataframe hakkındaki bilgileri verir\")\n",
    "    print(df.info())\n",
    "    print(\"\\n\\nDataframe'deki boş girilen hücreleri gösterir\")\n",
    "    print(df.isnull().sum())\n",
    "veri_inceleme(df)"
   ]
  },
  {
   "cell_type": "code",
   "execution_count": null,
   "metadata": {},
   "outputs": [],
   "source": [
    "import matplotlib.pyplot as plt\n",
    "\n",
    "hours_distribution = df.groupby(['category', 'hours']).size().reset_index(name='count')\n",
    "\n",
    "# Kategorileri bulma işlemi\n",
    "categories = hours_distribution['category'].unique()\n",
    "\n",
    "# Her kategori için ayrı bir pie chart\n",
    "for category in categories:\n",
    "    \n",
    "    category_data = hours_distribution[hours_distribution['category'] == category]\n",
    "    \n",
    "    plt.figure(figsize=(8, 8))\n",
    "    plt.pie(category_data['count'], labels=category_data['hours'], autopct='%1.2f%%', startangle=0,colors=['#00FFFF', '#00FF00'])\n",
    "    plt.title(f\"{category} Sektörü İçin İş Tipi Dağılımı\")\n",
    "    plt.show()\n"
   ]
  },
  {
   "cell_type": "code",
   "execution_count": null,
   "metadata": {},
   "outputs": [],
   "source": [
    "cities_distribution = df.groupby(['city', 'hours']).size().reset_index(name='count')\n",
    "\n",
    "# Her bir kategori için ayrı bir plot \n",
    "for hour_category in ['Part time', 'Full time']:\n",
    "    hour_category_data = cities_distribution[cities_distribution['hours'] == hour_category]\n",
    "    \n",
    "    plt.figure(figsize=(12, 6))\n",
    "    plt.bar(hour_category_data['city'], hour_category_data['count'])\n",
    "    plt.title(f\"{hour_category} İşlerin Kentlere Göre Dağılımı \")\n",
    "    plt.xticks(rotation=45, ha='right')\n",
    "    plt.tight_layout()\n",
    "    plt.show()"
   ]
  }
 ],
 "metadata": {
  "kernelspec": {
   "display_name": "data",
   "language": "python",
   "name": "python3"
  },
  "language_info": {
   "codemirror_mode": {
    "name": "ipython",
    "version": 3
   },
   "file_extension": ".py",
   "mimetype": "text/x-python",
   "name": "python",
   "nbconvert_exporter": "python",
   "pygments_lexer": "ipython3",
   "version": "3.12.3"
  }
 },
 "nbformat": 4,
 "nbformat_minor": 2
}
