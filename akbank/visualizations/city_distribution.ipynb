{
 "cells": [
  {
   "cell_type": "code",
   "execution_count": null,
   "metadata": {},
   "outputs": [],
   "source": [
    "import pandas as pd\n",
    "import numpy as np"
   ]
  },
  {
   "cell_type": "code",
   "execution_count": null,
   "metadata": {},
   "outputs": [],
   "source": [
    "csv_file = pd.read_csv(\"/Users/a90530/Downloads/akbank/dataset/rawData.csv\")\n",
    "df = pd.DataFrame(csv_file)"
   ]
  },
  {
   "cell_type": "code",
   "execution_count": null,
   "metadata": {},
   "outputs": [],
   "source": [
    "def veri_inceleme(df):\n",
    "    print(\"\\nDataframe'in ilk 5 tanesi\")\n",
    "    print(df.head())\n",
    "    print(\"\\n\\nDataframe'in columnları\")\n",
    "    print(df.columns)\n",
    "    print(\"\\n\\nDataframe hakkında istatistiksel bilgi\")\n",
    "    print(df.describe())\n",
    "    print(\"\\nColumn Sayısı:\")\n",
    "    print(df.shape)\n",
    "    print(\"\\n\\nDataframe hakkındaki bilgileri verir\")\n",
    "    print(df.info())\n",
    "    print(\"\\n\\nDataframe'deki boş girilen hücreleri gösterir\")\n",
    "    print(df.isnull().sum())\n",
    "veri_inceleme(df)"
   ]
  },
  {
   "cell_type": "code",
   "execution_count": null,
   "metadata": {},
   "outputs": [],
   "source": [
    "#Kullanılmayacak verilerin ve null değerlerin silinmesi işlemi\n",
    "df = df.drop(columns=['additionalSalaryInf','jobReference'])\n",
    "df = df.dropna()"
   ]
  },
  {
   "cell_type": "code",
   "execution_count": null,
   "metadata": {},
   "outputs": [],
   "source": [
    "import matplotlib.pyplot as plt\n",
    "import sys\n",
    "sys.path.append('/Users/a90530/Downloads/akbank/modules')\n",
    "from translator import CategoryTranslator\n",
    "\n",
    "\n",
    "#Bütün özgün lokasyonların ve kategorilerin toplanması işlemi\n",
    "translator = CategoryTranslator(\"/Users/a90530/Downloads/akbank/translations.json\")\n",
    "\n",
    "#Translator modulü kullanılarak kategorilerin daha iyi anlaşılması adına çeviri işlemi\n",
    "df['translated_category'] = translator.translate_categories(df, 'category')['translated_category']\n",
    "categories = df['translated_category'].unique()\n",
    "location_distribution = df.groupby(['translated_category', 'city']).size().reset_index(name='count')\n",
    "\n",
    "fig, axes = plt.subplots(len(categories), 1, figsize=(10, len(categories)*5))\n",
    "\n",
    "# Her bir kategori için ayrı bir plot \n",
    "for i, category in enumerate(categories):\n",
    "    category_data = location_distribution[location_distribution['translated_category'] == category]\n",
    "    ax = axes[i]\n",
    "    ax.bar(category_data['city'], category_data['count'], color='skyblue')\n",
    "    ax.set_title(f'{category} Sektörünün Kentlere Göre Dağılımı')\n",
    "    ax.set_ylabel('Sayım')\n",
    "\n",
    "\n",
    "plt.tight_layout()\n",
    "\n",
    "plt.show()"
   ]
  }
 ],
 "metadata": {
  "kernelspec": {
   "display_name": "base",
   "language": "python",
   "name": "python3"
  },
  "language_info": {
   "codemirror_mode": {
    "name": "ipython",
    "version": 3
   },
   "file_extension": ".py",
   "mimetype": "text/x-python",
   "name": "python",
   "nbconvert_exporter": "python",
   "pygments_lexer": "ipython3",
   "version": "3.11.9"
  }
 },
 "nbformat": 4,
 "nbformat_minor": 2
}
