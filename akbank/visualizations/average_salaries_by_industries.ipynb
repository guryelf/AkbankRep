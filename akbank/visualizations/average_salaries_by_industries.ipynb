{
 "cells": [
  {
   "cell_type": "code",
   "execution_count": null,
   "metadata": {},
   "outputs": [],
   "source": [
    "import pandas as pd\n",
    "import numpy as np\n",
    "import matplotlib.pyplot as plt"
   ]
  },
  {
   "cell_type": "code",
   "execution_count": null,
   "metadata": {},
   "outputs": [],
   "source": [
    "csv_file = pd.read_csv(\"/Users/a90530/Downloads/akbank/dataset/rawData.csv\")\n",
    "df = pd.DataFrame(csv_file)"
   ]
  },
  {
   "cell_type": "code",
   "execution_count": null,
   "metadata": {},
   "outputs": [],
   "source": [
    "def veri_inceleme(df):\n",
    "    print(\"\\nDataframe'in ilk 5 tanesi\")\n",
    "    print(df.head())\n",
    "    print(\"\\n\\nDataframe'in columnları\")\n",
    "    print(df.columns)\n",
    "    print(\"\\n\\nDataframe hakkında istatistiksel bilgi\")\n",
    "    print(df.describe())\n",
    "    print(\"\\nColumn Sayısı:\")\n",
    "    print(df.shape)\n",
    "    print(\"\\n\\nDataframe hakkındaki bilgileri verir\")\n",
    "    print(df.info())\n",
    "    print(\"\\n\\nDataframe'deki boş girilen hücreleri gösterir\")\n",
    "    print(df.isnull().sum())\n",
    "veri_inceleme(df)"
   ]
  },
  {
   "cell_type": "code",
   "execution_count": null,
   "metadata": {},
   "outputs": [],
   "source": [
    "#Kullanılmayacak verilerin ve null değerlerin silinmesi işlemi\n",
    "df = df.drop(columns=['additionalSalaryInf','jobReference'])\n",
    "df = df.dropna()"
   ]
  },
  {
   "cell_type": "code",
   "execution_count": null,
   "metadata": {},
   "outputs": [],
   "source": [
    "# Range şeklinde belirlenmiş maaş değerlerini nümerik değer haline getirme işlemi\n",
    "def convert_salary_to_hourly(salary):\n",
    "    if 'year' in salary:\n",
    "        # Alt sınırı gerçek maaş olarak belirleme\n",
    "        lower_bound_str = salary.split(' to ')[0].replace('£', '').replace(',', '').strip()\n",
    "        lower_bound_str = lower_bound_str.split('per')[0]\n",
    "        lower_bound = float(lower_bound_str)\n",
    "        # 1 yıl içerisinde 2080 saat çalışma saati varsayımı yapıldı\n",
    "        hourly_rate = lower_bound / 2080\n",
    "        return round(float(hourly_rate), 2)\n",
    "    elif 'hour' in salary:\n",
    "        # Alt sınırı gerçek maaş olarak belirleme\n",
    "        lower_bound_str = salary.split(' to ')[0].replace('£', '').replace(',', '').strip()\n",
    "        lower_bound_str = lower_bound_str.split('per')[0]\n",
    "        return round(float(lower_bound_str), 2)\n",
    "\n",
    "# Apply fonksiyonu ile salary sütununa \"extract_salary\" fonksiyonunu uyguluyoruz\n",
    "df['salary_numeric'] = df['salary'].apply(convert_salary_to_hourly)\n",
    "df.dropna(subset=['salary_numeric'], inplace=True)"
   ]
  },
  {
   "cell_type": "code",
   "execution_count": null,
   "metadata": {},
   "outputs": [],
   "source": [
    "import sys\n",
    "sys.path.append('/Users/a90530/Downloads/akbank/modules')\n",
    "from local_outlier import LocalOutlierDetection\n",
    "\n",
    "#Aykırı değerlerin değişmesi\n",
    "outlier_detection = LocalOutlierDetection()\n",
    "outlier_detection.set_neighbors(20)\n",
    "df['salary_numeric'] = outlier_detection.remove_outliers(df, 'salary_numeric')['salary_numeric']"
   ]
  },
  {
   "cell_type": "code",
   "execution_count": null,
   "metadata": {},
   "outputs": [],
   "source": [
    "# Sektörlere göre ortalama maaş dağılımı\n",
    "average_salary_by_category = df.groupby(\"category\")[\"salary_numeric\"].mean().reset_index()\n",
    "\n",
    "plt.figure(figsize=(10, 6))\n",
    "plt.bar(average_salary_by_category[\"category\"], average_salary_by_category[\"salary_numeric\"], color='skyblue')\n",
    "plt.xlabel('Sektör')\n",
    "plt.ylabel('Ortalama Maaş (£)')\n",
    "plt.title('Her Sektör İçin Ortalama Maaş Grafiği')\n",
    "plt.xticks(rotation=45, ha='right')\n",
    "plt.tight_layout()\n",
    "plt.show()\n"
   ]
  }
 ],
 "metadata": {
  "kernelspec": {
   "display_name": "base",
   "language": "python",
   "name": "python3"
  },
  "language_info": {
   "codemirror_mode": {
    "name": "ipython",
    "version": 3
   },
   "file_extension": ".py",
   "mimetype": "text/x-python",
   "name": "python",
   "nbconvert_exporter": "python",
   "pygments_lexer": "ipython3",
   "version": "3.12.3"
  }
 },
 "nbformat": 4,
 "nbformat_minor": 2
}
